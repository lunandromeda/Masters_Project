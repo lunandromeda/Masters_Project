{
 "cells": [
  {
   "cell_type": "markdown",
   "id": "88654286-036c-46b4-b4a7-b2218f8c3414",
   "metadata": {},
   "source": [
    "# LDA Coherence Analysis (c_v)\n",
    "\n",
    "This notebook loads **LDA-ready** data, creates multiple LDA models with varying topic numbers, computes the **c_v coherence** score for each, and plots the results. The resulting figure and logs help determine an appropriate number of topics.\n",
    "\n",
    "Note: This notebook demonstrates how to systematically vary the number of LDA topics\n",
    "and measure the c_v coherence score for each configuration.\n",
    "\n",
    "## Key Libraries\n",
    "\n",
    "- **[matplotlib](https://matplotlib.org/stable/index.html)** for plotting\n",
    "- **[gensim](https://radimrehurek.com/gensim/)** for dictionary creation, LDA modeling, and coherence computation\n",
    "\n",
    "## Imports"
   ]
  },
  {
   "cell_type": "code",
   "execution_count": 1,
   "id": "55b26543-82d9-4b88-b36c-13d6c0c46e63",
   "metadata": {},
   "outputs": [],
   "source": [
    "import json\n",
    "import os\n",
    "import matplotlib.pyplot as plt\n",
    "from gensim.corpora import Dictionary\n",
    "from gensim.models import LdaModel, CoherenceModel\n",
    "from pathlib import Path"
   ]
  },
  {
   "cell_type": "markdown",
   "id": "fdf0352f-311e-4e41-8996-f4b894fd33ef",
   "metadata": {},
   "source": [
    "## Helper Functions\n",
    "\n",
    "These functions provide a way to systematically train and evaluate multiple LDA models for different topic numbers, then plot coherence scores."
   ]
  },
  {
   "cell_type": "code",
   "execution_count": 2,
   "id": "22280da1-6c68-4a90-afb4-e6f812137377",
   "metadata": {},
   "outputs": [],
   "source": [
    "def compute_coherence_values_c_v(dictionary, corpus, texts, start=2, limit=10, step=2):\n",
    "    \"\"\"\n",
    "    Compute c_v coherence for various numbers of topics.\n",
    "    Returns a list of LDA models and their coherence values.\n",
    "    \"\"\"\n",
    "    model_list = []\n",
    "    coherence_values = []\n",
    "\n",
    "    for num_topics in range(start, limit + 1, step):\n",
    "        model = LdaModel(\n",
    "            corpus=corpus,\n",
    "            id2word=dictionary,\n",
    "            num_topics=num_topics,\n",
    "            random_state=42,\n",
    "            update_every=1,\n",
    "            passes=10,\n",
    "            alpha='auto',\n",
    "            per_word_topics=True\n",
    "        )\n",
    "        model_list.append(model)\n",
    "        coherencemodel = CoherenceModel(\n",
    "            model=model,\n",
    "            texts=texts,\n",
    "            dictionary=dictionary,\n",
    "            coherence='c_v'\n",
    "        )\n",
    "        coherence_values.append(coherencemodel.get_coherence())\n",
    "\n",
    "    return model_list, coherence_values\n",
    "\n",
    "def plot_coherence_c_v(coherence_values, start=2, limit=10, step=2):\n",
    "    \"\"\"\n",
    "    Plots c_v coherence scores for each tested topic number and saves the figure.\n",
    "    \"\"\"\n",
    "    x = range(start, limit + 1, step)\n",
    "    plt.figure(figsize=(8, 5))\n",
    "    plt.plot(x, coherence_values, marker='o', label='c_v coherence')\n",
    "    for i, score in enumerate(coherence_values):\n",
    "        plt.text(x[i], score + 0.002, f\"{score:.3f}\", ha='center')\n",
    "    plt.title('LDA Model Coherence (c_v)')\n",
    "    plt.xlabel(\"Number of Topics\")\n",
    "    plt.ylabel(\"Coherence Score\")\n",
    "    plt.grid(True)\n",
    "    plt.legend()\n",
    "    plt.tight_layout()\n",
    "    plt.show()"
   ]
  },
  {
   "cell_type": "markdown",
   "id": "5888d23c-8593-4ef6-b5a0-918ae633b4c4",
   "metadata": {},
   "source": [
    "## Main Execution\n",
    "\n",
    "Loads `lda_ready_data.json`, prepares a Gensim corpus, trains LDA models for different topic numbers, computes c_v coherence, and plots the results."
   ]
  },
  {
   "cell_type": "code",
   "execution_count": 17,
   "id": "1593cccc-e618-4567-ad4e-3a1226fc921e",
   "metadata": {},
   "outputs": [
    {
     "name": "stdout",
     "output_type": "stream",
     "text": [
      "c_v Coherence Scores:\n",
      " Number of Topics = 2: c_v = 0.2967\n",
      " Number of Topics = 4: c_v = 0.3328\n",
      " Number of Topics = 6: c_v = 0.3709\n",
      " Number of Topics = 8: c_v = 0.3432\n",
      " Number of Topics = 10: c_v = 0.3701\n",
      " Number of Topics = 12: c_v = 0.3854\n",
      " Number of Topics = 14: c_v = 0.3595\n",
      " Number of Topics = 16: c_v = 0.3695\n",
      " Number of Topics = 18: c_v = 0.3809\n",
      " Number of Topics = 20: c_v = 0.4091\n"
     ]
    }
   ],
   "source": [
    "def main():\n",
    "    \"\"\"Main function to load data, prepare it for LDA, tain multiple models,\n",
    "    compute coherence scores, and save a coherence plot.\"\"\"\n",
    "    processed_data_path = Path(r\"C:\\Users\\laure\\Desktop\\dissertation_notebook\\Data\\lda_ready_data.json\")\n",
    "    with open(processed_data_path, 'r', encoding='utf-8') as f:\n",
    "        processed_data = json.load(f)\n",
    "\n",
    "    all_docs = []\n",
    "    for post in processed_data:\n",
    "        combined_text = post.get('combined_processed', '').strip()\n",
    "        if combined_text:\n",
    "            all_docs.append(combined_text.split())\n",
    "        for c in post.get('comments', []):\n",
    "            c_text = c.get('comment_processed', '').strip()\n",
    "            if c_text:\n",
    "                all_docs.append(c_text.split())\n",
    "\n",
    "    dictionary = Dictionary(all_docs)\n",
    "    dictionary.filter_extremes(no_below=5, no_above=0.5)\n",
    "    corpus = [dictionary.doc2bow(doc) for doc in all_docs]\n",
    "\n",
    "    start, limit, step = 2, 20, 2\n",
    "\n",
    "    model_list, coherence_scores = compute_coherence_values_c_v(\n",
    "        dictionary=dictionary,\n",
    "        corpus=corpus,\n",
    "        texts=all_docs,\n",
    "        start=start,\n",
    "        limit=limit,\n",
    "        step=step\n",
    "    )\n",
    "\n",
    "    plot_coherence_c_v(\n",
    "        coherence_values=coherence_scores,\n",
    "        start=start,\n",
    "        limit=limit,\n",
    "        step=step\n",
    "    )\n",
    "\n",
    "    print(\"c_v Coherence Scores:\")\n",
    "    for num_t, score in zip(range(start, limit + 1, step), coherence_scores):\n",
    "        print(f\" Number of Topics = {num_t}: c_v = {score:.4f}\")\n",
    "\n",
    "if __name__ == \"__main__\":\n",
    "    main()"
   ]
  },
  {
   "cell_type": "markdown",
   "id": "2ca5d234",
   "metadata": {},
   "source": [
    "## References\n",
    "\n",
    "**Reference:**  \n",
    "Hunter, J. D. (2007) *Matplotlib: A 2D Graphics Environment* [computer program]. *Computing in Science & Engineering*, 9(3), pp. 90–95 (v3.7.3).  \n",
    "Available from: [https://matplotlib.org/](https://matplotlib.org/) [Accessed 12 January 2025].\n",
    "\n",
    "**Git Repo:**  \n",
    "- [Matplotlib GitHub](https://github.com/matplotlib/matplotlib)\n",
    "\n",
    "**Reference:**  \n",
    "Řehůřek, R., and Sojka, P. (2010) *Software Framework for Topic Modelling with Large Corpora*. In *Proceedings of the LREC 2010 Workshop on New Challenges for NLP Frameworks* [computer program].  \n",
    "Available from: [https://radimrehurek.com/gensim/](https://radimrehurek.com/gensim/) [Accessed 12 January 2025].\n",
    "\n",
    "**Git Repo:**  \n",
    "- [Gensim GitHub](https://github.com/RaRe-Technologies/gensim)"
   ]
  }
 ],
 "metadata": {
  "kernelspec": {
   "display_name": "diss_notebook Kernel",
   "language": "python",
   "name": "diss_notebook"
  },
  "language_info": {
   "codemirror_mode": {
    "name": "ipython",
    "version": 3
   },
   "file_extension": ".py",
   "mimetype": "text/x-python",
   "name": "python",
   "nbconvert_exporter": "python",
   "pygments_lexer": "ipython3",
   "version": "3.12.3"
  }
 },
 "nbformat": 4,
 "nbformat_minor": 5
}
