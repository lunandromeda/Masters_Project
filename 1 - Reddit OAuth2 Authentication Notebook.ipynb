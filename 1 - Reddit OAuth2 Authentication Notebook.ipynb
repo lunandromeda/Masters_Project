{
 "cells": [
  {
   "cell_type": "markdown",
   "id": "ddc6368a-c244-43f5-a63c-d06067a65d80",
   "metadata": {},
   "source": [
    "# Reddit OAuth2 Authentication\n",
    "\n",
    "This notebook demonstrates how to obtain an **OAuth2** refresh token from Reddit using the `praw` library to authenticate and collect Reddit data without re-authorising each time. The following is used:\n",
    "- [PRAW](https://praw.readthedocs.io/en/latest/) (Python Reddit API Wrapper)\n",
    "\n",
    "## 1. Imports & Setup\n",
    "Imports:\n",
    "- PRAW handles Reddit API interactions.\n",
    "- webbrowser is from Python’s standard library for opening URLs.\n",
    "- urllib.parse is for parsing the callback URL."
   ]
  },
  {
   "cell_type": "code",
   "execution_count": 4,
   "id": "149328ef-7467-48ff-bec6-b716c78a31b4",
   "metadata": {},
   "outputs": [
    {
     "name": "stdout",
     "output_type": "stream",
     "text": [
      "Successfully imported PRAW, webbrowser, and urllib.parse.\n"
     ]
    }
   ],
   "source": [
    "import praw\n",
    "import webbrowser\n",
    "import urllib.parse\n",
    "\n",
    "print(\"Successfully imported PRAW, webbrowser, and urllib.parse.\")"
   ]
  },
  {
   "cell_type": "markdown",
   "id": "21a023aa-db0a-4d1d-b77d-4647edf780a2",
   "metadata": {},
   "source": [
    "## 2. Define Reddit API Credentials\n",
    "Reddit API credentials are defined here:\n",
    "- client_id\n",
    "- client_secret\n",
    "- user_agent\n",
    "- redirect_uri\n",
    "\n",
    "For more info on creating a Reddit app, see:\n",
    "- [Reddit API Docs](https://www.reddit.com/dev/api/)\n",
    "- [Reddit App Preferences](https://www.reddit.com/prefs/apps)"
   ]
  },
  {
   "cell_type": "code",
   "execution_count": 1,
   "id": "4106b790-5f5f-494f-b3b2-30e099a1b964",
   "metadata": {},
   "outputs": [
    {
     "name": "stdout",
     "output_type": "stream",
     "text": [
      "Credentials set. keep them private\n"
     ]
    }
   ],
   "source": [
    "# credentials\n",
    "client_id = 'YOUR_CLIENT_ID'\n",
    "client_secret = 'YOUR_CLIENT_SECRET'\n",
    "user_agent = 'YOUR_USER_AGENT'\n",
    "redirect_uri = 'YOUR_REDIRECT_URI'\n",
    "scope = 'YOUR_SCOPE'\n",
    "\n",
    "print(\"Credentials set. keep them private\")"
   ]
  },
  {
   "cell_type": "markdown",
   "id": "0a005af2-c35a-41dc-b768-b99fac43a95f",
   "metadata": {},
   "source": [
    "## 3. Initialise PRAW\n",
    "A PRAW Reddit instance is created using the credentials above."
   ]
  },
  {
   "cell_type": "code",
   "execution_count": 5,
   "id": "8611a9bb-6d02-46f1-bd39-27f6008856b3",
   "metadata": {},
   "outputs": [
    {
     "name": "stdout",
     "output_type": "stream",
     "text": [
      "Reddit instance created successfully\n"
     ]
    }
   ],
   "source": [
    "reddit = praw.Reddit(\n",
    "    client_id=client_id,\n",
    "    client_secret=client_secret,\n",
    "    user_agent=user_agent,\n",
    "    redirect_uri=redirect_uri\n",
    ")\n",
    "\n",
    "print(\"Reddit instance created successfully\")"
   ]
  },
  {
   "cell_type": "markdown",
   "id": "0b0e1b94-e58d-4a6c-b314-fe213f7e1842",
   "metadata": {},
   "source": [
    "## 4. Generate the Authorisation URL\n",
    "This cell:\n",
    "- Generates the OAuth2 URL using reddit.auth.url()\n",
    "- Opens your default browser to let you Allow or Deny access"
   ]
  },
  {
   "cell_type": "code",
   "execution_count": 4,
   "id": "6c345494-ccd4-4cd0-858a-b7a0923699c0",
   "metadata": {},
   "outputs": [
    {
     "name": "stdout",
     "output_type": "stream",
     "text": [
      "Please visit this URL to authorise:\n",
      "https://www.reddit.com/api/v1/authorize?client_id=rrVD6pgU5ZOsKJUmY5_fUA&duration=permanent&redirect_uri=http%3A%2F%2Flocalhost%3A8000&response_type=code&scope=read&state=uniqueKey\n"
     ]
    },
    {
     "data": {
      "text/plain": [
       "True"
      ]
     },
     "execution_count": 4,
     "metadata": {},
     "output_type": "execute_result"
    }
   ],
   "source": [
    "auth_url = auth_url = reddit.auth.url(\n",
    "    scopes=[scope],\n",
    "    state='uniqueKey',\n",
    "    duration='permanent'\n",
    ")\n",
    "print(f\"Please visit this URL to authorise:\\n{auth_url}\")\n",
    "\n",
    "# Attempt to open in browser\n",
    "webbrowser.open(auth_url)"
   ]
  },
  {
   "cell_type": "markdown",
   "id": "4ef8f023-49db-4c38-a9ed-45265050eb4d",
   "metadata": {},
   "source": [
    "## 5. Capture Callback URL & Extract Authorisation Code\n",
    "Steps:\n",
    "- Authorise in the browser.\n",
    "- Copy the full callback URL, which includes `state` and `code` parameters.\n",
    "- Paste it into this cell’s prompt."
   ]
  },
  {
   "cell_type": "code",
   "execution_count": 5,
   "id": "cab889ca-8e88-44c2-8bac-dd5fff12baee",
   "metadata": {},
   "outputs": [
    {
     "name": "stdout",
     "output_type": "stream",
     "text": [
      "Enter the full URL after authorisation:  http://localhost:8000/?state=uniqueKey&code=lSAtPGrR2tJrFOlT9_Rpqoa-o_htUQ#_\n"
     ]
    },
    {
     "name": "stdout",
     "output_type": "stream",
     "text": [
      "Authorisation code extracted: lSAtPGrR2tJrFOlT9_Rpqoa-o_htUQ\n"
     ]
    }
   ],
   "source": [
    "response_url = input(\"Enter the full URL after authorisation: \")\n",
    "\n",
    "parsed_url = urllib.parse.urlparse(response_url)\n",
    "authorisation_code = urllib.parse.parse_qs(parsed_url.query)['code'][0]\n",
    "\n",
    "print(f\"Authorisation code extracted: {authorisation_code}\")"
   ]
  },
  {
   "cell_type": "markdown",
   "id": "1eaa8e80-343e-4334-bd1b-8cb4a5440e25",
   "metadata": {},
   "source": [
    "## 6. Exchange Code for a Refresh Token\n",
    "This step exchanges the authorisation code for a refresh token.\n",
    "\n",
    "[PRAW Refresh Token Workflow](https://praw.readthedocs.io/en/latest/tutorials/refresh_token.html)"
   ]
  },
  {
   "cell_type": "code",
   "execution_count": 9,
   "id": "23a67b82-f715-44bb-99ff-55fab3683d9f",
   "metadata": {},
   "outputs": [
    {
     "name": "stdout",
     "output_type": "stream",
     "text": [
      "Successfully obtained refresh token\n",
      "Your refresh token is:\n",
      "146413303680186-yWRVBOG-VIp51EchsZVa-45U9iivBg\n"
     ]
    }
   ],
   "source": [
    "refresh_token = reddit.auth.authorize(authorisation_code)\n",
    "print(\"Successfully obtained refresh token\")\n",
    "print(f\"Your refresh token is:\\n{refresh_token}\")"
   ]
  },
  {
   "cell_type": "markdown",
   "id": "5161a21d-7db2-4e33-b19f-976360cdf838",
   "metadata": {},
   "source": [
    "## Conclusion & Next Steps\n",
    "A refresh token is now available for ongoing Reddit data collection. A recommended approach is to store it securely (e.g., environment variable, private config file). During the next session, `praw.Reddit` can be initialised using:"
   ]
  },
  {
   "cell_type": "code",
   "execution_count": null,
   "id": "0c8a08aa-3ac2-460a-8451-394fcbc9e000",
   "metadata": {},
   "outputs": [],
   "source": [
    "reddit = praw.Reddit(\n",
    "    client_id=client_id,\n",
    "    client_secret=client_secret,\n",
    "    user_agent=user_agent,\n",
    "    refresh_token=refresh_token\n",
    ")"
   ]
  },
  {
   "cell_type": "markdown",
   "id": "191062b6-5060-44af-8baf-30ed14324052",
   "metadata": {},
   "source": [
    "**Reference:**\n",
    "\n",
    "Adapted from PRAW Development Team (2024) **PRAW** (Python Reddit API Wrapper v7.8.1) [computerprogram]. Available from: https://praw.readthedocs.io/en/stable/ [Accessed 6 May 2024]\n",
    "\n",
    "**Git Repo:**\n",
    "- [PRAW GitHub](https://github.com/praw-dev/praw)"
   ]
  }
 ],
 "metadata": {
  "kernelspec": {
   "display_name": "diss_notebook Kernel",
   "language": "python",
   "name": "diss_notebook"
  },
  "language_info": {
   "codemirror_mode": {
    "name": "ipython",
    "version": 3
   },
   "file_extension": ".py",
   "mimetype": "text/x-python",
   "name": "python",
   "nbconvert_exporter": "python",
   "pygments_lexer": "ipython3",
   "version": "3.12.3"
  }
 },
 "nbformat": 4,
 "nbformat_minor": 5
}
